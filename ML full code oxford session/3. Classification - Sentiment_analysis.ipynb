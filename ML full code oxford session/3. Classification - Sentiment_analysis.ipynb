{
 "cells": [
  {
   "cell_type": "markdown",
   "metadata": {
    "id": "IRGQ0MBqOnEL"
   },
   "source": [
    "# Problem statement: Classification model to analyze Amazon product reviews\n",
    "\n",
    "The objective is to create a classification model that will analyze Amazon product reviews to classify sentiments as positive or negative. Here's a breakdown of the steps involved in this workflow:\n",
    "\n",
    "- Step 1: Load the Dataset\n",
    "- Step 2: Data Pre-processing\n",
    "- Step 3: Feature Selection\n",
    "- Step 4: Model Selection\n",
    "- Step 5: Training the Model\n",
    "- Step 6: Model Evaluation\n",
    "- Step 7: Hyperparameter Tuning\n",
    "- Step 8: Cross Validation\n",
    "\n",
    "The notebook contains 7 exercises in total:\n",
    "\n",
    "* [Exercise 1](#ex_1)\n",
    "* [Exercise 2](#ex_2)\n",
    "* [Exercise 3](#ex_3)\n",
    "* [Exercise 4](#ex_4)\n",
    "* [Exercise 5](#ex_5)\n",
    "* [Exercise 6](#ex_6)\n",
    "* [Exercise 7](#ex_7)"
   ]
  },
  {
   "cell_type": "markdown",
   "metadata": {
    "id": "uH6KQFuh1XHu"
   },
   "source": [
    "## Step 1: Load the dataset\n",
    "First, let's load the dataset from Google Drive. You need to upload the dataset and then read the CSV file into a pandas DataFrame."
   ]
  },
  {
   "cell_type": "code",
   "execution_count": null,
   "metadata": {
    "id": "MGvvWInefqU-"
   },
   "outputs": [],
   "source": [
    "from google.colab import files\n",
    "uploaded = files.upload()"
   ]
  },
  {
   "cell_type": "code",
   "execution_count": 18,
   "metadata": {
    "id": "hfYy3kh11GCA"
   },
   "outputs": [
    {
     "data": {
      "text/html": [
       "<div>\n",
       "<style scoped>\n",
       "    .dataframe tbody tr th:only-of-type {\n",
       "        vertical-align: middle;\n",
       "    }\n",
       "\n",
       "    .dataframe tbody tr th {\n",
       "        vertical-align: top;\n",
       "    }\n",
       "\n",
       "    .dataframe thead th {\n",
       "        text-align: right;\n",
       "    }\n",
       "</style>\n",
       "<table border=\"1\" class=\"dataframe\">\n",
       "  <thead>\n",
       "    <tr style=\"text-align: right;\">\n",
       "      <th></th>\n",
       "      <th>market_place</th>\n",
       "      <th>customer_id</th>\n",
       "      <th>review_id</th>\n",
       "      <th>product_id</th>\n",
       "      <th>product_parent</th>\n",
       "      <th>product_title</th>\n",
       "      <th>product_category</th>\n",
       "      <th>star_rating</th>\n",
       "      <th>helpful_votes</th>\n",
       "      <th>total_votes</th>\n",
       "      <th>vine</th>\n",
       "      <th>verified_purchase</th>\n",
       "      <th>review_headline</th>\n",
       "      <th>review_body</th>\n",
       "      <th>review_date</th>\n",
       "      <th>sentiments</th>\n",
       "    </tr>\n",
       "  </thead>\n",
       "  <tbody>\n",
       "    <tr>\n",
       "      <th>0</th>\n",
       "      <td>\"US\"</td>\n",
       "      <td>\"42521656\"</td>\n",
       "      <td>\"R26MV8D0KG6QI6\"</td>\n",
       "      <td>\"B000SAQCWC\"</td>\n",
       "      <td>\"159713740\"</td>\n",
       "      <td>\"The Cravings Place Chocolate Chunk Cookie Mix...</td>\n",
       "      <td>\"Grocery\"</td>\n",
       "      <td>1</td>\n",
       "      <td>0</td>\n",
       "      <td>0</td>\n",
       "      <td>0 \\t(N)</td>\n",
       "      <td>1 \\t(Y)</td>\n",
       "      <td>\"Using these for years - love them.\"</td>\n",
       "      <td>\"As a family allergic to wheat, dairy, eggs, n...</td>\n",
       "      <td>2015-08-31</td>\n",
       "      <td>positive</td>\n",
       "    </tr>\n",
       "    <tr>\n",
       "      <th>1</th>\n",
       "      <td>\"US\"</td>\n",
       "      <td>\"12049833\"</td>\n",
       "      <td>\"R1OF8GP57AQ1A0\"</td>\n",
       "      <td>\"B00509LVIQ\"</td>\n",
       "      <td>\"138680402\"</td>\n",
       "      <td>\"Mauna Loa Macadamias, 11 Ounce Packages\"</td>\n",
       "      <td>\"Grocery\"</td>\n",
       "      <td>1</td>\n",
       "      <td>0</td>\n",
       "      <td>0</td>\n",
       "      <td>0 \\t(N)</td>\n",
       "      <td>1 \\t(Y)</td>\n",
       "      <td>\"Wonderful\"</td>\n",
       "      <td>\"My favorite nut. Creamy, crunchy, salty, and ...</td>\n",
       "      <td>2015-08-31</td>\n",
       "      <td>positive</td>\n",
       "    </tr>\n",
       "    <tr>\n",
       "      <th>2</th>\n",
       "      <td>\"US\"</td>\n",
       "      <td>\"107642\"</td>\n",
       "      <td>\"R3VDC1QB6MC4ZZ\"</td>\n",
       "      <td>\"B00KHXESLC\"</td>\n",
       "      <td>\"252021703\"</td>\n",
       "      <td>\"Organic Matcha Green Tea Powder - 100% Pure M...</td>\n",
       "      <td>\"Grocery\"</td>\n",
       "      <td>1</td>\n",
       "      <td>0</td>\n",
       "      <td>0</td>\n",
       "      <td>0 \\t(N)</td>\n",
       "      <td>0 \\t(N)</td>\n",
       "      <td>\"Five Stars\"</td>\n",
       "      <td>\"This green tea tastes so good! My girlfriend ...</td>\n",
       "      <td>2015-08-31</td>\n",
       "      <td>positive</td>\n",
       "    </tr>\n",
       "    <tr>\n",
       "      <th>3</th>\n",
       "      <td>\"US\"</td>\n",
       "      <td>\"6042304\"</td>\n",
       "      <td>\"R12FA3DCF8F9ER\"</td>\n",
       "      <td>\"B000F8JIIC\"</td>\n",
       "      <td>\"752728342\"</td>\n",
       "      <td>\"15oz Raspberry Lyons Designer Dessert Syrup S...</td>\n",
       "      <td>\"Grocery\"</td>\n",
       "      <td>1</td>\n",
       "      <td>0</td>\n",
       "      <td>0</td>\n",
       "      <td>0 \\t(N)</td>\n",
       "      <td>1 \\t(Y)</td>\n",
       "      <td>\"Five Stars\"</td>\n",
       "      <td>\"I love Melissa's brand but this is a great se...</td>\n",
       "      <td>2015-08-31</td>\n",
       "      <td>positive</td>\n",
       "    </tr>\n",
       "    <tr>\n",
       "      <th>4</th>\n",
       "      <td>\"US\"</td>\n",
       "      <td>\"18123821\"</td>\n",
       "      <td>\"RTWHVNV6X4CNJ\"</td>\n",
       "      <td>\"B004ZWR9RQ\"</td>\n",
       "      <td>\"552138758\"</td>\n",
       "      <td>\"Stride Spark Kinetic Fruit Sugar Free Gum, 14...</td>\n",
       "      <td>\"Grocery\"</td>\n",
       "      <td>1</td>\n",
       "      <td>0</td>\n",
       "      <td>0</td>\n",
       "      <td>0 \\t(N)</td>\n",
       "      <td>1 \\t(Y)</td>\n",
       "      <td>\"Five Stars\"</td>\n",
       "      <td>\"good\"</td>\n",
       "      <td>2015-08-31</td>\n",
       "      <td>positive</td>\n",
       "    </tr>\n",
       "  </tbody>\n",
       "</table>\n",
       "</div>"
      ],
      "text/plain": [
       "  market_place customer_id         review_id    product_id product_parent  \\\n",
       "0         \"US\"  \"42521656\"  \"R26MV8D0KG6QI6\"  \"B000SAQCWC\"    \"159713740\"   \n",
       "1         \"US\"  \"12049833\"  \"R1OF8GP57AQ1A0\"  \"B00509LVIQ\"    \"138680402\"   \n",
       "2         \"US\"    \"107642\"  \"R3VDC1QB6MC4ZZ\"  \"B00KHXESLC\"    \"252021703\"   \n",
       "3         \"US\"   \"6042304\"  \"R12FA3DCF8F9ER\"  \"B000F8JIIC\"    \"752728342\"   \n",
       "4         \"US\"  \"18123821\"   \"RTWHVNV6X4CNJ\"  \"B004ZWR9RQ\"    \"552138758\"   \n",
       "\n",
       "                                       product_title product_category  \\\n",
       "0  \"The Cravings Place Chocolate Chunk Cookie Mix...        \"Grocery\"   \n",
       "1          \"Mauna Loa Macadamias, 11 Ounce Packages\"        \"Grocery\"   \n",
       "2  \"Organic Matcha Green Tea Powder - 100% Pure M...        \"Grocery\"   \n",
       "3  \"15oz Raspberry Lyons Designer Dessert Syrup S...        \"Grocery\"   \n",
       "4  \"Stride Spark Kinetic Fruit Sugar Free Gum, 14...        \"Grocery\"   \n",
       "\n",
       "   star_rating  helpful_votes  total_votes     vine verified_purchase  \\\n",
       "0            1              0            0  0 \\t(N)           1 \\t(Y)   \n",
       "1            1              0            0  0 \\t(N)           1 \\t(Y)   \n",
       "2            1              0            0  0 \\t(N)           0 \\t(N)   \n",
       "3            1              0            0  0 \\t(N)           1 \\t(Y)   \n",
       "4            1              0            0  0 \\t(N)           1 \\t(Y)   \n",
       "\n",
       "                        review_headline  \\\n",
       "0  \"Using these for years - love them.\"   \n",
       "1                           \"Wonderful\"   \n",
       "2                          \"Five Stars\"   \n",
       "3                          \"Five Stars\"   \n",
       "4                          \"Five Stars\"   \n",
       "\n",
       "                                         review_body review_date sentiments  \n",
       "0  \"As a family allergic to wheat, dairy, eggs, n...  2015-08-31   positive  \n",
       "1  \"My favorite nut. Creamy, crunchy, salty, and ...  2015-08-31   positive  \n",
       "2  \"This green tea tastes so good! My girlfriend ...  2015-08-31   positive  \n",
       "3  \"I love Melissa's brand but this is a great se...  2015-08-31   positive  \n",
       "4                                             \"good\"  2015-08-31   positive  "
      ]
     },
     "execution_count": 18,
     "metadata": {},
     "output_type": "execute_result"
    }
   ],
   "source": [
    "# Import necessary libraries\n",
    "import pandas as pd\n",
    "\n",
    "# Load the dataset into a DataFrame\n",
    "df = pd.read_csv('Datasets/amazon-product-review-data.csv')\n",
    "\n",
    "# Display the first few rows to check if the data is loaded correctly\n",
    "df.head()\n",
    "\n"
   ]
  },
  {
   "cell_type": "markdown",
   "metadata": {
    "id": "p8E6a6h_2LIC"
   },
   "source": [
    "## Step 2: Data Pre-processing\n",
    "\n",
    "\n",
    "\n"
   ]
  },
  {
   "cell_type": "code",
   "execution_count": 2,
   "metadata": {
    "id": "t_WMCjp72Z3g"
   },
   "outputs": [
    {
     "name": "stdout",
     "output_type": "stream",
     "text": [
      "X_train shape: (400, 3466)\n",
      "X_test shape: (100, 3466)\n",
      "y_train shape: (400,)\n",
      "y_test shape: (100,)\n"
     ]
    }
   ],
   "source": [
    "# Import necessary libraries for data pre-processing\n",
    "import numpy as np\n",
    "from sklearn.model_selection import train_test_split\n",
    "from sklearn.feature_extraction.text import TfidfVectorizer\n",
    "from sklearn.preprocessing import LabelEncoder\n",
    "\n",
    "# Remove any rows with missing values\n",
    "df.dropna(inplace=True)\n",
    "\n",
    "# Encode the 'sentiments' column (positive/negative) to numerical values (0/1)\n",
    "le = LabelEncoder()\n",
    "df['sentiments'] = le.fit_transform(df['sentiments'])\n",
    "\n",
    "# Text data preprocessing using TF-IDF vectorization\n",
    "tfidf_vectorizer = TfidfVectorizer(max_features=5000, stop_words='english')\n",
    "X = tfidf_vectorizer.fit_transform(df['review_body']).toarray()\n",
    "y = df['sentiments'].values\n",
    "\n",
    "# Split the data into training and testing sets (80% train, 20% test)\n",
    "X_train, X_test, y_train, y_test = train_test_split(X, y, test_size=0.2, random_state=42)\n",
    "\n",
    "# Display the shapes of the resulting data\n",
    "print(\"X_train shape:\", X_train.shape)\n",
    "print(\"X_test shape:\", X_test.shape)\n",
    "print(\"y_train shape:\", y_train.shape)\n",
    "print(\"y_test shape:\", y_test.shape)\n"
   ]
  },
  {
   "cell_type": "markdown",
   "metadata": {
    "id": "eSAPAkPnTXrR"
   },
   "source": [
    "<a name=\"ex_1\"></a>\n",
    "## Exercise 1\n",
    "\n",
    "- Use the train_test_split function and change the test_size to 0.3\n",
    "\n",
    "This way the training set (X and y) should be 70% and the testing set(X and y) should be 30%"
   ]
  },
  {
   "cell_type": "code",
   "execution_count": 3,
   "metadata": {},
   "outputs": [
    {
     "name": "stdout",
     "output_type": "stream",
     "text": [
      "X_train shape: (350, 3466)\n",
      "X_test shape: (150, 3466)\n",
      "y_train shape: (350,)\n",
      "y_test shape: (150,)\n"
     ]
    }
   ],
   "source": [
    "# Split the data into training and testing sets (70% train, 30% test)\n",
    "X_train, X_test, y_train, y_test = train_test_split(X, y, test_size=0.3, random_state=42)\n",
    "\n",
    "# Display the shapes of the resulting data\n",
    "print(\"X_train shape:\", X_train.shape)\n",
    "print(\"X_test shape:\", X_test.shape)\n",
    "print(\"y_train shape:\", y_train.shape)\n",
    "print(\"y_test shape:\", y_test.shape)"
   ]
  },
  {
   "cell_type": "markdown",
   "metadata": {
    "id": "I9q_p7vr27mV"
   },
   "source": [
    "## Step 3: Feature Selection\n",
    "\n",
    "In this step, we'll perform feature selection to reduce the dimensionality of the TF-IDF vectorized data and potentially improve the model's performance. We'll use feature selection techniques like chi-squared (chi2) or mutual information to select the most important features."
   ]
  },
  {
   "cell_type": "code",
   "execution_count": 5,
   "metadata": {
    "id": "8usH1IZP2-HS"
   },
   "outputs": [
    {
     "name": "stdout",
     "output_type": "stream",
     "text": [
      "X_train_selected shape: (350, 1000)\n",
      "X_test_selected shape: (150, 1000)\n"
     ]
    }
   ],
   "source": [
    "from sklearn.feature_selection import SelectKBest, chi2\n",
    "\n",
    "# Apply feature selection using chi-squared (chi2) test\n",
    "# You can adjust the number of features (k) as needed\n",
    "k = 1000\n",
    "selector = SelectKBest(chi2, k=k)\n",
    "X_train_selected = selector.fit_transform(X_train, y_train)\n",
    "X_test_selected = selector.transform(X_test)\n",
    "\n",
    "# Display the shapes of the selected feature sets\n",
    "print(\"X_train_selected shape:\", X_train_selected.shape)\n",
    "print(\"X_test_selected shape:\", X_test_selected.shape)"
   ]
  },
  {
   "cell_type": "markdown",
   "metadata": {
    "id": "SU3KOde8Te0k"
   },
   "source": [
    "<a name=\"ex_2\"></a>\n",
    "## Exercise 2\n",
    "\n",
    "- Compare the X_train_selected shape and X_test_selected shape with the new test_size=0.3"
   ]
  },
  {
   "cell_type": "code",
   "execution_count": 6,
   "metadata": {},
   "outputs": [
    {
     "name": "stdout",
     "output_type": "stream",
     "text": [
      "X_train_selected shape with test_size=0.3: (350, 1000)\n",
      "X_test_selected shape with test_size=0.3: (150, 1000)\n"
     ]
    }
   ],
   "source": [
    "# Display the shapes of the selected feature sets with the new test size\n",
    "print(\"X_train_selected shape with test_size=0.3:\", X_train_selected.shape)\n",
    "print(\"X_test_selected shape with test_size=0.3:\", X_test_selected.shape)"
   ]
  },
  {
   "cell_type": "markdown",
   "metadata": {
    "id": "slW7wA0L3Q3R"
   },
   "source": [
    "We have successfully performed feature selection, reducing the dimensionality of the data while retaining the most important features.\n",
    "\n",
    "\n",
    "## Step 4: Model Selection\n",
    "For sentiment analysis, you can use various machine learning algorithms like Logistic Regression, Naive Bayes, Support Vector Machines, or even deep learning models like LSTM or BERT. Since you're a beginner, let's start with a simple model like Logistic Regression."
   ]
  },
  {
   "cell_type": "code",
   "execution_count": 13,
   "metadata": {
    "id": "Olqw9Aah3Wx6"
   },
   "outputs": [],
   "source": [
    "from sklearn.linear_model import LogisticRegression\n",
    "\n",
    "# Initialize the Logistic Regression model\n",
    "model = LogisticRegression(random_state=42, class_weight='balanced')\n"
   ]
  },
  {
   "cell_type": "markdown",
   "metadata": {
    "id": "-eaR-mvhTpwp"
   },
   "source": [
    "<a name=\"ex_3\"></a>\n",
    "## Exercise 3\n",
    "\n",
    "What does the random_state (parameter of the LogisticRegression) represent?"
   ]
  },
  {
   "cell_type": "markdown",
   "metadata": {
    "id": "7oSfXOImTxrq"
   },
   "source": [
    "**Answer**: The `random_state` parameter in `LogisticRegression` is used to control the randomness of the algorithm. It ensures that the results are reproducible by setting a seed for the random number generator. This way, if you run the same code multiple times with the same `random_state` value, you will get the same results each time. This is particularly useful for debugging and comparing different models."
   ]
  },
  {
   "cell_type": "markdown",
   "metadata": {
    "id": "7KTqnTiB3leR"
   },
   "source": [
    "## Step 5: Training the Model\n",
    "\n",
    "Now that we have initialized our Logistic Regression model, it's time to train it on the selected features from the training dataset.\n",
    "\n"
   ]
  },
  {
   "cell_type": "code",
   "execution_count": 14,
   "metadata": {
    "id": "yFqbF79I3sFJ"
   },
   "outputs": [
    {
     "data": {
      "text/html": [
       "<style>#sk-container-id-3 {\n",
       "  /* Definition of color scheme common for light and dark mode */\n",
       "  --sklearn-color-text: #000;\n",
       "  --sklearn-color-text-muted: #666;\n",
       "  --sklearn-color-line: gray;\n",
       "  /* Definition of color scheme for unfitted estimators */\n",
       "  --sklearn-color-unfitted-level-0: #fff5e6;\n",
       "  --sklearn-color-unfitted-level-1: #f6e4d2;\n",
       "  --sklearn-color-unfitted-level-2: #ffe0b3;\n",
       "  --sklearn-color-unfitted-level-3: chocolate;\n",
       "  /* Definition of color scheme for fitted estimators */\n",
       "  --sklearn-color-fitted-level-0: #f0f8ff;\n",
       "  --sklearn-color-fitted-level-1: #d4ebff;\n",
       "  --sklearn-color-fitted-level-2: #b3dbfd;\n",
       "  --sklearn-color-fitted-level-3: cornflowerblue;\n",
       "\n",
       "  /* Specific color for light theme */\n",
       "  --sklearn-color-text-on-default-background: var(--sg-text-color, var(--theme-code-foreground, var(--jp-content-font-color1, black)));\n",
       "  --sklearn-color-background: var(--sg-background-color, var(--theme-background, var(--jp-layout-color0, white)));\n",
       "  --sklearn-color-border-box: var(--sg-text-color, var(--theme-code-foreground, var(--jp-content-font-color1, black)));\n",
       "  --sklearn-color-icon: #696969;\n",
       "\n",
       "  @media (prefers-color-scheme: dark) {\n",
       "    /* Redefinition of color scheme for dark theme */\n",
       "    --sklearn-color-text-on-default-background: var(--sg-text-color, var(--theme-code-foreground, var(--jp-content-font-color1, white)));\n",
       "    --sklearn-color-background: var(--sg-background-color, var(--theme-background, var(--jp-layout-color0, #111)));\n",
       "    --sklearn-color-border-box: var(--sg-text-color, var(--theme-code-foreground, var(--jp-content-font-color1, white)));\n",
       "    --sklearn-color-icon: #878787;\n",
       "  }\n",
       "}\n",
       "\n",
       "#sk-container-id-3 {\n",
       "  color: var(--sklearn-color-text);\n",
       "}\n",
       "\n",
       "#sk-container-id-3 pre {\n",
       "  padding: 0;\n",
       "}\n",
       "\n",
       "#sk-container-id-3 input.sk-hidden--visually {\n",
       "  border: 0;\n",
       "  clip: rect(1px 1px 1px 1px);\n",
       "  clip: rect(1px, 1px, 1px, 1px);\n",
       "  height: 1px;\n",
       "  margin: -1px;\n",
       "  overflow: hidden;\n",
       "  padding: 0;\n",
       "  position: absolute;\n",
       "  width: 1px;\n",
       "}\n",
       "\n",
       "#sk-container-id-3 div.sk-dashed-wrapped {\n",
       "  border: 1px dashed var(--sklearn-color-line);\n",
       "  margin: 0 0.4em 0.5em 0.4em;\n",
       "  box-sizing: border-box;\n",
       "  padding-bottom: 0.4em;\n",
       "  background-color: var(--sklearn-color-background);\n",
       "}\n",
       "\n",
       "#sk-container-id-3 div.sk-container {\n",
       "  /* jupyter's `normalize.less` sets `[hidden] { display: none; }`\n",
       "     but bootstrap.min.css set `[hidden] { display: none !important; }`\n",
       "     so we also need the `!important` here to be able to override the\n",
       "     default hidden behavior on the sphinx rendered scikit-learn.org.\n",
       "     See: https://github.com/scikit-learn/scikit-learn/issues/21755 */\n",
       "  display: inline-block !important;\n",
       "  position: relative;\n",
       "}\n",
       "\n",
       "#sk-container-id-3 div.sk-text-repr-fallback {\n",
       "  display: none;\n",
       "}\n",
       "\n",
       "div.sk-parallel-item,\n",
       "div.sk-serial,\n",
       "div.sk-item {\n",
       "  /* draw centered vertical line to link estimators */\n",
       "  background-image: linear-gradient(var(--sklearn-color-text-on-default-background), var(--sklearn-color-text-on-default-background));\n",
       "  background-size: 2px 100%;\n",
       "  background-repeat: no-repeat;\n",
       "  background-position: center center;\n",
       "}\n",
       "\n",
       "/* Parallel-specific style estimator block */\n",
       "\n",
       "#sk-container-id-3 div.sk-parallel-item::after {\n",
       "  content: \"\";\n",
       "  width: 100%;\n",
       "  border-bottom: 2px solid var(--sklearn-color-text-on-default-background);\n",
       "  flex-grow: 1;\n",
       "}\n",
       "\n",
       "#sk-container-id-3 div.sk-parallel {\n",
       "  display: flex;\n",
       "  align-items: stretch;\n",
       "  justify-content: center;\n",
       "  background-color: var(--sklearn-color-background);\n",
       "  position: relative;\n",
       "}\n",
       "\n",
       "#sk-container-id-3 div.sk-parallel-item {\n",
       "  display: flex;\n",
       "  flex-direction: column;\n",
       "}\n",
       "\n",
       "#sk-container-id-3 div.sk-parallel-item:first-child::after {\n",
       "  align-self: flex-end;\n",
       "  width: 50%;\n",
       "}\n",
       "\n",
       "#sk-container-id-3 div.sk-parallel-item:last-child::after {\n",
       "  align-self: flex-start;\n",
       "  width: 50%;\n",
       "}\n",
       "\n",
       "#sk-container-id-3 div.sk-parallel-item:only-child::after {\n",
       "  width: 0;\n",
       "}\n",
       "\n",
       "/* Serial-specific style estimator block */\n",
       "\n",
       "#sk-container-id-3 div.sk-serial {\n",
       "  display: flex;\n",
       "  flex-direction: column;\n",
       "  align-items: center;\n",
       "  background-color: var(--sklearn-color-background);\n",
       "  padding-right: 1em;\n",
       "  padding-left: 1em;\n",
       "}\n",
       "\n",
       "\n",
       "/* Toggleable style: style used for estimator/Pipeline/ColumnTransformer box that is\n",
       "clickable and can be expanded/collapsed.\n",
       "- Pipeline and ColumnTransformer use this feature and define the default style\n",
       "- Estimators will overwrite some part of the style using the `sk-estimator` class\n",
       "*/\n",
       "\n",
       "/* Pipeline and ColumnTransformer style (default) */\n",
       "\n",
       "#sk-container-id-3 div.sk-toggleable {\n",
       "  /* Default theme specific background. It is overwritten whether we have a\n",
       "  specific estimator or a Pipeline/ColumnTransformer */\n",
       "  background-color: var(--sklearn-color-background);\n",
       "}\n",
       "\n",
       "/* Toggleable label */\n",
       "#sk-container-id-3 label.sk-toggleable__label {\n",
       "  cursor: pointer;\n",
       "  display: flex;\n",
       "  width: 100%;\n",
       "  margin-bottom: 0;\n",
       "  padding: 0.5em;\n",
       "  box-sizing: border-box;\n",
       "  text-align: center;\n",
       "  align-items: start;\n",
       "  justify-content: space-between;\n",
       "  gap: 0.5em;\n",
       "}\n",
       "\n",
       "#sk-container-id-3 label.sk-toggleable__label .caption {\n",
       "  font-size: 0.6rem;\n",
       "  font-weight: lighter;\n",
       "  color: var(--sklearn-color-text-muted);\n",
       "}\n",
       "\n",
       "#sk-container-id-3 label.sk-toggleable__label-arrow:before {\n",
       "  /* Arrow on the left of the label */\n",
       "  content: \"▸\";\n",
       "  float: left;\n",
       "  margin-right: 0.25em;\n",
       "  color: var(--sklearn-color-icon);\n",
       "}\n",
       "\n",
       "#sk-container-id-3 label.sk-toggleable__label-arrow:hover:before {\n",
       "  color: var(--sklearn-color-text);\n",
       "}\n",
       "\n",
       "/* Toggleable content - dropdown */\n",
       "\n",
       "#sk-container-id-3 div.sk-toggleable__content {\n",
       "  max-height: 0;\n",
       "  max-width: 0;\n",
       "  overflow: hidden;\n",
       "  text-align: left;\n",
       "  /* unfitted */\n",
       "  background-color: var(--sklearn-color-unfitted-level-0);\n",
       "}\n",
       "\n",
       "#sk-container-id-3 div.sk-toggleable__content.fitted {\n",
       "  /* fitted */\n",
       "  background-color: var(--sklearn-color-fitted-level-0);\n",
       "}\n",
       "\n",
       "#sk-container-id-3 div.sk-toggleable__content pre {\n",
       "  margin: 0.2em;\n",
       "  border-radius: 0.25em;\n",
       "  color: var(--sklearn-color-text);\n",
       "  /* unfitted */\n",
       "  background-color: var(--sklearn-color-unfitted-level-0);\n",
       "}\n",
       "\n",
       "#sk-container-id-3 div.sk-toggleable__content.fitted pre {\n",
       "  /* unfitted */\n",
       "  background-color: var(--sklearn-color-fitted-level-0);\n",
       "}\n",
       "\n",
       "#sk-container-id-3 input.sk-toggleable__control:checked~div.sk-toggleable__content {\n",
       "  /* Expand drop-down */\n",
       "  max-height: 200px;\n",
       "  max-width: 100%;\n",
       "  overflow: auto;\n",
       "}\n",
       "\n",
       "#sk-container-id-3 input.sk-toggleable__control:checked~label.sk-toggleable__label-arrow:before {\n",
       "  content: \"▾\";\n",
       "}\n",
       "\n",
       "/* Pipeline/ColumnTransformer-specific style */\n",
       "\n",
       "#sk-container-id-3 div.sk-label input.sk-toggleable__control:checked~label.sk-toggleable__label {\n",
       "  color: var(--sklearn-color-text);\n",
       "  background-color: var(--sklearn-color-unfitted-level-2);\n",
       "}\n",
       "\n",
       "#sk-container-id-3 div.sk-label.fitted input.sk-toggleable__control:checked~label.sk-toggleable__label {\n",
       "  background-color: var(--sklearn-color-fitted-level-2);\n",
       "}\n",
       "\n",
       "/* Estimator-specific style */\n",
       "\n",
       "/* Colorize estimator box */\n",
       "#sk-container-id-3 div.sk-estimator input.sk-toggleable__control:checked~label.sk-toggleable__label {\n",
       "  /* unfitted */\n",
       "  background-color: var(--sklearn-color-unfitted-level-2);\n",
       "}\n",
       "\n",
       "#sk-container-id-3 div.sk-estimator.fitted input.sk-toggleable__control:checked~label.sk-toggleable__label {\n",
       "  /* fitted */\n",
       "  background-color: var(--sklearn-color-fitted-level-2);\n",
       "}\n",
       "\n",
       "#sk-container-id-3 div.sk-label label.sk-toggleable__label,\n",
       "#sk-container-id-3 div.sk-label label {\n",
       "  /* The background is the default theme color */\n",
       "  color: var(--sklearn-color-text-on-default-background);\n",
       "}\n",
       "\n",
       "/* On hover, darken the color of the background */\n",
       "#sk-container-id-3 div.sk-label:hover label.sk-toggleable__label {\n",
       "  color: var(--sklearn-color-text);\n",
       "  background-color: var(--sklearn-color-unfitted-level-2);\n",
       "}\n",
       "\n",
       "/* Label box, darken color on hover, fitted */\n",
       "#sk-container-id-3 div.sk-label.fitted:hover label.sk-toggleable__label.fitted {\n",
       "  color: var(--sklearn-color-text);\n",
       "  background-color: var(--sklearn-color-fitted-level-2);\n",
       "}\n",
       "\n",
       "/* Estimator label */\n",
       "\n",
       "#sk-container-id-3 div.sk-label label {\n",
       "  font-family: monospace;\n",
       "  font-weight: bold;\n",
       "  display: inline-block;\n",
       "  line-height: 1.2em;\n",
       "}\n",
       "\n",
       "#sk-container-id-3 div.sk-label-container {\n",
       "  text-align: center;\n",
       "}\n",
       "\n",
       "/* Estimator-specific */\n",
       "#sk-container-id-3 div.sk-estimator {\n",
       "  font-family: monospace;\n",
       "  border: 1px dotted var(--sklearn-color-border-box);\n",
       "  border-radius: 0.25em;\n",
       "  box-sizing: border-box;\n",
       "  margin-bottom: 0.5em;\n",
       "  /* unfitted */\n",
       "  background-color: var(--sklearn-color-unfitted-level-0);\n",
       "}\n",
       "\n",
       "#sk-container-id-3 div.sk-estimator.fitted {\n",
       "  /* fitted */\n",
       "  background-color: var(--sklearn-color-fitted-level-0);\n",
       "}\n",
       "\n",
       "/* on hover */\n",
       "#sk-container-id-3 div.sk-estimator:hover {\n",
       "  /* unfitted */\n",
       "  background-color: var(--sklearn-color-unfitted-level-2);\n",
       "}\n",
       "\n",
       "#sk-container-id-3 div.sk-estimator.fitted:hover {\n",
       "  /* fitted */\n",
       "  background-color: var(--sklearn-color-fitted-level-2);\n",
       "}\n",
       "\n",
       "/* Specification for estimator info (e.g. \"i\" and \"?\") */\n",
       "\n",
       "/* Common style for \"i\" and \"?\" */\n",
       "\n",
       ".sk-estimator-doc-link,\n",
       "a:link.sk-estimator-doc-link,\n",
       "a:visited.sk-estimator-doc-link {\n",
       "  float: right;\n",
       "  font-size: smaller;\n",
       "  line-height: 1em;\n",
       "  font-family: monospace;\n",
       "  background-color: var(--sklearn-color-background);\n",
       "  border-radius: 1em;\n",
       "  height: 1em;\n",
       "  width: 1em;\n",
       "  text-decoration: none !important;\n",
       "  margin-left: 0.5em;\n",
       "  text-align: center;\n",
       "  /* unfitted */\n",
       "  border: var(--sklearn-color-unfitted-level-1) 1pt solid;\n",
       "  color: var(--sklearn-color-unfitted-level-1);\n",
       "}\n",
       "\n",
       ".sk-estimator-doc-link.fitted,\n",
       "a:link.sk-estimator-doc-link.fitted,\n",
       "a:visited.sk-estimator-doc-link.fitted {\n",
       "  /* fitted */\n",
       "  border: var(--sklearn-color-fitted-level-1) 1pt solid;\n",
       "  color: var(--sklearn-color-fitted-level-1);\n",
       "}\n",
       "\n",
       "/* On hover */\n",
       "div.sk-estimator:hover .sk-estimator-doc-link:hover,\n",
       ".sk-estimator-doc-link:hover,\n",
       "div.sk-label-container:hover .sk-estimator-doc-link:hover,\n",
       ".sk-estimator-doc-link:hover {\n",
       "  /* unfitted */\n",
       "  background-color: var(--sklearn-color-unfitted-level-3);\n",
       "  color: var(--sklearn-color-background);\n",
       "  text-decoration: none;\n",
       "}\n",
       "\n",
       "div.sk-estimator.fitted:hover .sk-estimator-doc-link.fitted:hover,\n",
       ".sk-estimator-doc-link.fitted:hover,\n",
       "div.sk-label-container:hover .sk-estimator-doc-link.fitted:hover,\n",
       ".sk-estimator-doc-link.fitted:hover {\n",
       "  /* fitted */\n",
       "  background-color: var(--sklearn-color-fitted-level-3);\n",
       "  color: var(--sklearn-color-background);\n",
       "  text-decoration: none;\n",
       "}\n",
       "\n",
       "/* Span, style for the box shown on hovering the info icon */\n",
       ".sk-estimator-doc-link span {\n",
       "  display: none;\n",
       "  z-index: 9999;\n",
       "  position: relative;\n",
       "  font-weight: normal;\n",
       "  right: .2ex;\n",
       "  padding: .5ex;\n",
       "  margin: .5ex;\n",
       "  width: min-content;\n",
       "  min-width: 20ex;\n",
       "  max-width: 50ex;\n",
       "  color: var(--sklearn-color-text);\n",
       "  box-shadow: 2pt 2pt 4pt #999;\n",
       "  /* unfitted */\n",
       "  background: var(--sklearn-color-unfitted-level-0);\n",
       "  border: .5pt solid var(--sklearn-color-unfitted-level-3);\n",
       "}\n",
       "\n",
       ".sk-estimator-doc-link.fitted span {\n",
       "  /* fitted */\n",
       "  background: var(--sklearn-color-fitted-level-0);\n",
       "  border: var(--sklearn-color-fitted-level-3);\n",
       "}\n",
       "\n",
       ".sk-estimator-doc-link:hover span {\n",
       "  display: block;\n",
       "}\n",
       "\n",
       "/* \"?\"-specific style due to the `<a>` HTML tag */\n",
       "\n",
       "#sk-container-id-3 a.estimator_doc_link {\n",
       "  float: right;\n",
       "  font-size: 1rem;\n",
       "  line-height: 1em;\n",
       "  font-family: monospace;\n",
       "  background-color: var(--sklearn-color-background);\n",
       "  border-radius: 1rem;\n",
       "  height: 1rem;\n",
       "  width: 1rem;\n",
       "  text-decoration: none;\n",
       "  /* unfitted */\n",
       "  color: var(--sklearn-color-unfitted-level-1);\n",
       "  border: var(--sklearn-color-unfitted-level-1) 1pt solid;\n",
       "}\n",
       "\n",
       "#sk-container-id-3 a.estimator_doc_link.fitted {\n",
       "  /* fitted */\n",
       "  border: var(--sklearn-color-fitted-level-1) 1pt solid;\n",
       "  color: var(--sklearn-color-fitted-level-1);\n",
       "}\n",
       "\n",
       "/* On hover */\n",
       "#sk-container-id-3 a.estimator_doc_link:hover {\n",
       "  /* unfitted */\n",
       "  background-color: var(--sklearn-color-unfitted-level-3);\n",
       "  color: var(--sklearn-color-background);\n",
       "  text-decoration: none;\n",
       "}\n",
       "\n",
       "#sk-container-id-3 a.estimator_doc_link.fitted:hover {\n",
       "  /* fitted */\n",
       "  background-color: var(--sklearn-color-fitted-level-3);\n",
       "}\n",
       "</style><div id=\"sk-container-id-3\" class=\"sk-top-container\"><div class=\"sk-text-repr-fallback\"><pre>LogisticRegression(class_weight=&#x27;balanced&#x27;, random_state=42)</pre><b>In a Jupyter environment, please rerun this cell to show the HTML representation or trust the notebook. <br />On GitHub, the HTML representation is unable to render, please try loading this page with nbviewer.org.</b></div><div class=\"sk-container\" hidden><div class=\"sk-item\"><div class=\"sk-estimator fitted sk-toggleable\"><input class=\"sk-toggleable__control sk-hidden--visually\" id=\"sk-estimator-id-3\" type=\"checkbox\" checked><label for=\"sk-estimator-id-3\" class=\"sk-toggleable__label fitted sk-toggleable__label-arrow\"><div><div>LogisticRegression</div></div><div><a class=\"sk-estimator-doc-link fitted\" rel=\"noreferrer\" target=\"_blank\" href=\"https://scikit-learn.org/1.6/modules/generated/sklearn.linear_model.LogisticRegression.html\">?<span>Documentation for LogisticRegression</span></a><span class=\"sk-estimator-doc-link fitted\">i<span>Fitted</span></span></div></label><div class=\"sk-toggleable__content fitted\"><pre>LogisticRegression(class_weight=&#x27;balanced&#x27;, random_state=42)</pre></div> </div></div></div></div>"
      ],
      "text/plain": [
       "LogisticRegression(class_weight='balanced', random_state=42)"
      ]
     },
     "execution_count": 14,
     "metadata": {},
     "output_type": "execute_result"
    }
   ],
   "source": [
    "\n",
    "# Train the Logistic Regression model on the selected features\n",
    "model.fit(X_train_selected, y_train)\n",
    "\n",
    "# We can now proceed to Step 7: Model Evaluation"
   ]
  },
  {
   "cell_type": "markdown",
   "metadata": {
    "id": "PtEOm5Y630p5"
   },
   "source": [
    "## Step 6: Model Evaluation\n",
    "\n",
    "In this step, we'll evaluate the performance of the trained Logistic Regression model using the testing data.\n",
    "\n",
    "- We import necessary metrics from `sklearn.metrics` such as `accuracy_score`, `classification_report`, and `confusion_matrix`.\n",
    "- We use the trained model to predict sentiment labels (`y_pred`) for the test data (`X_test_selected`).\n",
    "- We calculate the accuracy of the model by comparing the predicted labels to the true labels.\n",
    "- We display a classification report that includes precision, recall, F1-score, and support for both positive and negative sentiment classes.\n",
    "- We display a confusion matrix to visualize the true positive, true negative, false positive, and false negative predictions.\n",
    "\n"
   ]
  },
  {
   "cell_type": "code",
   "execution_count": 15,
   "metadata": {
    "id": "4eNG5rY5323C"
   },
   "outputs": [
    {
     "name": "stdout",
     "output_type": "stream",
     "text": [
      "Accuracy: 0.8266666666666667\n",
      "\n",
      "Classification Report:\n",
      "              precision    recall  f1-score   support\n",
      "\n",
      "           0       0.38      0.22      0.28        23\n",
      "           1       0.87      0.94      0.90       127\n",
      "\n",
      "    accuracy                           0.83       150\n",
      "   macro avg       0.63      0.58      0.59       150\n",
      "weighted avg       0.79      0.83      0.81       150\n",
      "\n",
      "\n",
      "Confusion Matrix:\n",
      "[[  5  18]\n",
      " [  8 119]]\n"
     ]
    }
   ],
   "source": [
    "from sklearn.metrics import accuracy_score, classification_report, confusion_matrix\n",
    "\n",
    "# Predict sentiment labels for the test data\n",
    "y_pred = model.predict(X_test_selected)\n",
    "\n",
    "# Calculate the accuracy of the model\n",
    "accuracy = accuracy_score(y_test, y_pred)\n",
    "print(\"Accuracy:\", accuracy)\n",
    "\n",
    "# Display a classification report\n",
    "print(\"\\nClassification Report:\")\n",
    "print(classification_report(y_test, y_pred))\n",
    "\n",
    "# Display a confusion matrix\n",
    "print(\"\\nConfusion Matrix:\")\n",
    "print(confusion_matrix(y_test, y_pred))"
   ]
  },
  {
   "cell_type": "markdown",
   "metadata": {
    "id": "VUCBrmL4UASm"
   },
   "source": [
    "<a name=\"ex_4\"></a>\n",
    "## Exercise 4\n",
    "\n",
    "- Compare the Results with the new data split with the results of the actual split."
   ]
  },
  {
   "cell_type": "markdown",
   "metadata": {},
   "source": [
    "Model results with actual train test split"
   ]
  },
  {
   "cell_type": "code",
   "execution_count": 28,
   "metadata": {},
   "outputs": [
    {
     "name": "stdout",
     "output_type": "stream",
     "text": [
      "X_train shape: (400, 3466)\n",
      "X_test shape: (100, 3466)\n",
      "y_train shape: (400,)\n",
      "y_test shape: (100,)\n",
      "X_train_selected shape: (400, 1000)\n",
      "X_test_selected shape: (100, 1000)\n",
      "Accuracy: 0.82\n",
      "\n",
      "Classification Report:\n",
      "              precision    recall  f1-score   support\n",
      "\n",
      "           0       0.30      0.21      0.25        14\n",
      "           1       0.88      0.92      0.90        86\n",
      "\n",
      "    accuracy                           0.82       100\n",
      "   macro avg       0.59      0.57      0.57       100\n",
      "weighted avg       0.80      0.82      0.81       100\n",
      "\n",
      "\n",
      "Confusion Matrix:\n",
      "[[ 3 11]\n",
      " [ 7 79]]\n"
     ]
    }
   ],
   "source": [
    "# Import necessary libraries for data pre-processing\n",
    "import numpy as np\n",
    "from sklearn.model_selection import train_test_split\n",
    "from sklearn.feature_extraction.text import TfidfVectorizer\n",
    "from sklearn.preprocessing import LabelEncoder\n",
    "\n",
    "# Remove any rows with missing values\n",
    "df.dropna(inplace=True)\n",
    "\n",
    "# Encode the 'sentiments' column (positive/negative) to numerical values (0/1)\n",
    "le = LabelEncoder()\n",
    "df['sentiments'] = le.fit_transform(df['sentiments'])\n",
    "\n",
    "# Text data preprocessing using TF-IDF vectorization\n",
    "tfidf_vectorizer = TfidfVectorizer(max_features=5000, stop_words='english')\n",
    "X = tfidf_vectorizer.fit_transform(df['review_body']).toarray()\n",
    "y = df['sentiments'].values\n",
    "\n",
    "# Split the data into training and testing sets (80% train, 20% test)\n",
    "X_train, X_test, y_train, y_test = train_test_split(X, y, test_size=0.2, random_state=42)\n",
    "\n",
    "# Display the shapes of the resulting data\n",
    "print(\"X_train shape:\", X_train.shape)\n",
    "print(\"X_test shape:\", X_test.shape)\n",
    "print(\"y_train shape:\", y_train.shape)\n",
    "print(\"y_test shape:\", y_test.shape)\n",
    "\n",
    "\n",
    "# Feature selection\n",
    "from sklearn.feature_selection import SelectKBest, chi2\n",
    "\n",
    "# Apply feature selection using chi-squared (chi2) test\n",
    "# You can adjust the number of features (k) as needed\n",
    "k = 1000\n",
    "selector = SelectKBest(chi2, k=k)\n",
    "X_train_selected = selector.fit_transform(X_train, y_train)\n",
    "X_test_selected = selector.transform(X_test)\n",
    "\n",
    "# Display the shapes of the selected feature sets\n",
    "print(\"X_train_selected shape:\", X_train_selected.shape)\n",
    "print(\"X_test_selected shape:\", X_test_selected.shape)\n",
    "\n",
    "# model selection\n",
    "from sklearn.linear_model import LogisticRegression\n",
    "\n",
    "# Initialize the Logistic Regression model\n",
    "model = LogisticRegression(random_state=42, class_weight='balanced')\n",
    "\n",
    "# model training\n",
    "\n",
    "# Train the Logistic Regression model on the selected features\n",
    "model.fit(X_train_selected, y_train)\n",
    "\n",
    "# model evaluation\n",
    "from sklearn.metrics import accuracy_score, classification_report, confusion_matrix\n",
    "\n",
    "# Predict sentiment labels for the test data\n",
    "y_pred = model.predict(X_test_selected)\n",
    "\n",
    "# Calculate the accuracy of the model\n",
    "accuracy = accuracy_score(y_test, y_pred)\n",
    "print(\"Accuracy:\", accuracy)\n",
    "\n",
    "# Display a classification report\n",
    "print(\"\\nClassification Report:\")\n",
    "print(classification_report(y_test, y_pred))\n",
    "\n",
    "# Display a confusion matrix\n",
    "print(\"\\nConfusion Matrix:\")\n",
    "print(confusion_matrix(y_test, y_pred))"
   ]
  },
  {
   "cell_type": "markdown",
   "metadata": {},
   "source": [
    "**Answer**:\n",
    "\n",
    "To compare the results with the new data split (test_size=0.3) and the original split (test_size=0.2), we need to look at the accuracy, classification report, and confusion matrix for both cases.\n",
    "\n",
    "### Original Split (test_size=0.2)\n",
    "- **Accuracy**: 0.82\n",
    "- **Classification Report**:\n",
    "    ```\n",
    "                            Classification Report:\n",
    "              precision    recall  f1-score   support\n",
    "\n",
    "           0       0.30      0.21      0.25        14\n",
    "           1       0.88      0.92      0.90        86\n",
    "\n",
    "    accuracy                           0.82       100\n",
    "   macro avg       0.59      0.57      0.57       100\n",
    "weighted avg       0.80      0.82      0.81       100\n",
    "    ```\n",
    "- **Confusion Matrix**:\n",
    "    ```\n",
    " [[ 3 11]\n",
    " [ 7 79]]\n",
    "    ```\n",
    "\n",
    "### New Split (test_size=0.3)\n",
    "- **Accuracy**: 0.8266666666666667\n",
    "- **Classification Report**:\n",
    "    ```       Classification Report:\n",
    "              precision    recall  f1-score   support\n",
    "\n",
    "           0       0.38      0.22      0.28        23\n",
    "           1       0.87      0.94      0.90       127\n",
    "\n",
    "    accuracy                           0.83       150\n",
    "   macro avg       0.63      0.58      0.59       150\n",
    "weighted avg       0.79      0.83      0.81       150\n",
    "    ```\n",
    "- **Confusion Matrix**:\n",
    "    ```\n",
    "[[  5  18]\n",
    " [  8 119]]\n",
    "    ```\n",
    "\n",
    "### Conclusion\n",
    "- The new split (test_size=0.3) resulted in a slightly higher accuracy (0.827) compared to the original split (0.82).\n",
    "- The classification report and confusion matrix indicate that the model performs better with the new split, especially in terms of precision and recall for both classes.\n",
    "- The new split provides more data for validation, which might help in better assessing the model's performance on unseen data."
   ]
  },
  {
   "cell_type": "code",
   "execution_count": null,
   "metadata": {
    "id": "pY-p78AhRVCi"
   },
   "outputs": [],
   "source": [
    "# Write your code here"
   ]
  },
  {
   "cell_type": "markdown",
   "metadata": {
    "id": "JOQTfrhqUKiw"
   },
   "source": [
    "<a name=\"ex_5\"></a>\n",
    "## Exercise 5\n",
    "\n",
    "Do different training and testing sizes impact the model's learning and response to new data?"
   ]
  },
  {
   "cell_type": "markdown",
   "metadata": {
    "id": "W15I941KUQWx"
   },
   "source": [
    "**Answer**: Write your answer here"
   ]
  },
  {
   "cell_type": "markdown",
   "metadata": {
    "id": "7L7dQj714Ckw"
   },
   "source": [
    "## Step 7: Hyperparameter Tuning\n",
    "\n",
    "In this step, we'll perform hyperparameter tuning to optimize the Logistic Regression model's performance. We can search for the best hyperparameters using techniques like Grid Search or Random Search.\n",
    "\n",
    "- We import `GridSearchCV` from `sklearn.model_selection`.\n",
    "- We define a grid of hyperparameters to search, including 'C' (regularization parameter) and 'max_iter' (maximum iterations).\n",
    "- We initialize Grid Search with cross-validation (5-fold) to find the best hyperparameters.\n",
    "- The best hyperparameters are extracted using `grid_search.best_params_`.\n",
    "- We fit the tuned model with the best hyperparameters to the training data.\n",
    "- Finally, we evaluate the tuned model's accuracy on the test data."
   ]
  },
  {
   "cell_type": "code",
   "execution_count": 33,
   "metadata": {
    "id": "OX7ebRMa4GBT"
   },
   "outputs": [
    {
     "name": "stdout",
     "output_type": "stream",
     "text": [
      "Fitting 5 folds for each of 12 candidates, totalling 60 fits\n",
      "Best Hyperparameters: {'C': 100, 'max_iter': 100}\n",
      "Tuned Model Accuracy: 0.86\n"
     ]
    }
   ],
   "source": [
    "from sklearn.model_selection import GridSearchCV\n",
    "\n",
    "# Define hyperparameters to search\n",
    "param_grid = {\n",
    "    'C': [0.1, 1, 10, 100],  # Regularization parameters\n",
    "    'max_iter': [100, 200, 300]  # Maximum number of iterations\n",
    "}\n",
    "\n",
    "# Initialize Grid Search with cross-validation (5-fold)\n",
    "grid_search = GridSearchCV(LogisticRegression(random_state=42), param_grid, cv=5, verbose=1, n_jobs=-1)\n",
    "\n",
    "# Fit the Grid Search to the data\n",
    "grid_search.fit(X_train_selected, y_train)\n",
    "\n",
    "# Get the best hyperparameters\n",
    "best_params = grid_search.best_params_\n",
    "print(\"Best Hyperparameters:\", best_params)\n",
    "\n",
    "# Evaluate the model with the best hyperparameters\n",
    "best_model = grid_search.best_estimator_\n",
    "y_pred_tuned = best_model.predict(X_test_selected)\n",
    "\n",
    "# Calculate the accuracy of the tuned model\n",
    "accuracy_tuned = accuracy_score(y_test, y_pred_tuned)\n",
    "print(\"Tuned Model Accuracy:\", accuracy_tuned)"
   ]
  },
  {
   "cell_type": "markdown",
   "metadata": {
    "id": "FaJSToyvUbBp"
   },
   "source": [
    "<a name=\"ex_6\"></a>\n",
    "## Exercise 6\n",
    "\n",
    "- What is GridSearchCV used for?\n",
    "- What are hyperparameters?\n",
    "- Does the model give better results after hyperparameters ?"
   ]
  },
  {
   "cell_type": "markdown",
   "metadata": {
    "id": "zhZdGMyeUk4J"
   },
   "source": [
    "**Answer**: \n",
    "\n",
    "1. **What is GridSearchCV used for?**\n",
    "    GridSearchCV is used for hyperparameter tuning in machine learning models. It performs an exhaustive search over a specified parameter grid to find the best combination of hyperparameters that results in the highest model performance. It uses cross-validation to evaluate the performance of each combination of hyperparameters and selects the best one based on the evaluation metric.\n",
    "\n",
    "2. **What are hyperparameters?**\n",
    "    Hyperparameters are parameters that are not learned from the data but are set before the training process begins. They control the behavior of the training algorithm and the structure of the model. Examples of hyperparameters include the learning rate, the number of iterations, the regularization parameter, and the number of hidden layers in a neural network.\n",
    "\n",
    "3. **Does the model give better results after hyperparameters tuning?**\n",
    "    Yes, the model gives better results after hyperparameter tuning. In this case, the accuracy of the model improved from 0.82 to 0.86 after tuning the hyperparameters using GridSearchCV. This indicates that the tuned model is better at predicting the sentiments of the reviews compared to the initial model with default hyperparameters."
   ]
  },
  {
   "cell_type": "markdown",
   "metadata": {
    "id": "5Axwiyok4PkA"
   },
   "source": [
    "It appears that the hyperparameter tuning did not significantly improve the model's accuracy in this case. The accuracy remains at 0.86.\n",
    "\n",
    "## Step 8: Cross Validation\n",
    "\n",
    "We'll use cross-validation to estimate how well the model will perform on unseen data and check if the model's performance is consistent across different folds of the data.\n",
    "\n",
    "- We import `cross_val_score` from `sklearn.model_selection`.\n",
    "- We perform 5-fold cross-validation on the tuned model (`best_model`) using the training data (`X_train_selected` and `y_train`).\n",
    "- We calculate the mean cross-validation accuracy to get a more robust estimate of the model's performance."
   ]
  },
  {
   "cell_type": "code",
   "execution_count": 34,
   "metadata": {
    "id": "ezr_YRmn4VkI"
   },
   "outputs": [
    {
     "name": "stdout",
     "output_type": "stream",
     "text": [
      "Mean Cross-Validation Accuracy: 0.7925000000000001\n"
     ]
    }
   ],
   "source": [
    "from sklearn.model_selection import cross_val_score\n",
    "\n",
    "# Perform 5-fold cross-validation on the tuned model\n",
    "cv_scores = cross_val_score(best_model, X_train_selected, y_train, cv=5)\n",
    "\n",
    "# Calculate and display the mean cross-validation accuracy\n",
    "mean_cv_accuracy = np.mean(cv_scores)\n",
    "print(\"Mean Cross-Validation Accuracy:\", mean_cv_accuracy)"
   ]
  },
  {
   "cell_type": "markdown",
   "metadata": {
    "id": "SaZiGRevUrOG"
   },
   "source": [
    "<a name=\"ex_7\"></a>\n",
    "## Exercise 7\n",
    "\n",
    "- What is Cross Validation used for?\n",
    "- Compare the new Validation score (with the new training and testing size)\n",
    "- What do you conclude ?"
   ]
  },
  {
   "cell_type": "markdown",
   "metadata": {
    "id": "9zifBq1xVJ5b"
   },
   "source": [
    "**Answer**: \n",
    "1. What is Cross Validation used for?\n",
    "Cross validation is used to assess how well a model will generalize to new, unseen data. It works by:\n",
    "- Splitting the training data into multiple subsets (folds)\n",
    "- Training and evaluating the model multiple times using different combinations of these folds\n",
    "- Providing a more robust estimate of model performance than a single train-test split\n",
    "\n",
    "2. Compare the new Validation score (with the new test_size=0.3):\n",
    "- Original cross-validation score (mean): 0.7925\n",
    "- This score is lower than both:\n",
    "    * The initial model accuracy (0.82)\n",
    "    * The tuned model accuracy (0.827)\n",
    "\n",
    "3. Conclusion:\n",
    "- The cross-validation score suggests that our model's performance might be less stable than indicated by the single train-test split\n",
    "- The gap between cross-validation score (0.7925) and test accuracy (0.86) indicates possible overfitting\n",
    "- The larger test size (0.3) provides more data for validation but reduces training data, which might affect model performance\n",
    "- We should consider:\n",
    "    * Collecting more training data\n",
    "    * Using regularization techniques\n",
    "    * Feature engineering to improve model stability\n",
    "\"\"\""
   ]
  },
  {
   "cell_type": "markdown",
   "metadata": {},
   "source": []
  }
 ],
 "metadata": {
  "colab": {
   "provenance": []
  },
  "kernelspec": {
   "display_name": "venv",
   "language": "python",
   "name": "python3"
  },
  "language_info": {
   "codemirror_mode": {
    "name": "ipython",
    "version": 3
   },
   "file_extension": ".py",
   "mimetype": "text/x-python",
   "name": "python",
   "nbconvert_exporter": "python",
   "pygments_lexer": "ipython3",
   "version": "3.11.0"
  }
 },
 "nbformat": 4,
 "nbformat_minor": 0
}
